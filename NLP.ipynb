{
 "cells": [
  {
   "cell_type": "code",
   "execution_count": 1,
   "metadata": {},
   "outputs": [
    {
     "name": "stdout",
     "output_type": "stream",
     "text": [
      "Setup Complete\n"
     ]
    }
   ],
   "source": [
    "# import libraries\n",
    "import pandas as pd\n",
    "import numpy as np\n",
    "pd.plotting.register_matplotlib_converters()\n",
    "import matplotlib.pyplot as plt\n",
    "%matplotlib inline\n",
    "print(\"Setup Complete\")"
   ]
  },
  {
   "cell_type": "markdown",
   "metadata": {},
   "source": [
    "# Last 5 years of Apple WWDC\n",
    "from 2022 to 2018"
   ]
  },
  {
   "cell_type": "code",
   "execution_count": 2,
   "metadata": {},
   "outputs": [],
   "source": [
    "from youtube_transcript_api import YouTubeTranscriptApi\n",
    "\n",
    "wwdc_2022 = 'q5D55G7Ejs8'\n",
    "wwdc_2021 = '0TD96VTf0Xs'\n",
    "wwdc_2020 = 'GEZhD3J89ZE'\n",
    "wwdc_2019 = 'psL_5RIBqnY'\n",
    "wwdc_2018 = 'UThGcWBIMpU'\n",
    "\n",
    "\n",
    "trans_2022 = YouTubeTranscriptApi.get_transcript(wwdc_2022, languages=['en'])\n",
    "trans_2021 = YouTubeTranscriptApi.get_transcript(wwdc_2021, languages=['en'])\n",
    "trans_2020 = YouTubeTranscriptApi.get_transcript(wwdc_2020, languages=['en'])\n",
    "trans_2019 = YouTubeTranscriptApi.get_transcript(wwdc_2019, languages=['en'])\n",
    "trans_2018 = YouTubeTranscriptApi.get_transcript(wwdc_2018, languages=['en'])\n"
   ]
  },
  {
   "cell_type": "code",
   "execution_count": 4,
   "metadata": {},
   "outputs": [
    {
     "name": "stdout",
     "output_type": "stream",
     "text": [
      "{'text': '.', 'start': 6519.62, 'duration': 8.008}\n",
      "{'text': 'you', 'start': 6408.56, 'duration': 2.079}\n",
      "{'text': '[song fades]', 'start': 6479.446, 'duration': 1.602}\n",
      "{'text': '(Music playing)', 'start': 8210.333, 'duration': 3.933}\n",
      "{'text': '[ Applause ]', 'start': 8127.485, 'duration': 4.071}\n"
     ]
    }
   ],
   "source": [
    "# take a look at each transcript\n",
    "print(trans_2022[-1])\n",
    "print(trans_2021[-1])\n",
    "print(trans_2020[-1])\n",
    "print(trans_2019[-1])\n",
    "print(trans_2018[-1])\n"
   ]
  },
  {
   "cell_type": "code",
   "execution_count": 6,
   "metadata": {},
   "outputs": [],
   "source": [
    "# write transcript into txt file\n",
    "files = ['wwdc_2022.txt','wwdc_2021.txt','wwdc_2020.txt','wwdc_2019.txt','wwdc_2018.txt']\n",
    "trans = [trans_2022, trans_2021,trans_2020,trans_2019,trans_2018]\n",
    "\n",
    "for n in range(5):\n",
    "    with open(f'{files[n]}', 'w') as file:\n",
    "        for i in trans[n]:\n",
    "            file.write(f'{i}\\n')"
   ]
  },
  {
   "cell_type": "code",
   "execution_count": 7,
   "metadata": {},
   "outputs": [],
   "source": [
    "# turn transcripts to lists\n",
    "\n",
    "list_2022 = []\n",
    "list_2021 = []\n",
    "list_2020 = []\n",
    "list_2019 = []\n",
    "list_2018 = []\n",
    "num = 22\n",
    "list_total = []\n",
    "for i in range(5):\n",
    "    temp  = []\n",
    "    for j in range(len(trans[i])):\n",
    "        temp.append(trans[i][j].get('text'))\n",
    "    list_total.append(temp)\n",
    "\n",
    "list_2022 = list_total[0]\n",
    "list_2021 = list_total[1]\n",
    "list_2020 = list_total[2]\n",
    "list_2019 = list_total[3]\n",
    "list_2018 = list_total[4]"
   ]
  },
  {
   "cell_type": "code",
   "execution_count": 9,
   "metadata": {},
   "outputs": [
    {
     "name": "stdout",
     "output_type": "stream",
     "text": [
      ".\n",
      "you\n",
      "[song fades]\n",
      "(Music playing)\n",
      "[ Applause ]\n"
     ]
    }
   ],
   "source": [
    "print(list_2022[-1])\n",
    "print(list_2021[-1])\n",
    "print(list_2020[-1])\n",
    "print(list_2019[-1])\n",
    "print(list_2018[-1])"
   ]
  },
  {
   "cell_type": "code",
   "execution_count": 11,
   "metadata": {},
   "outputs": [
    {
     "name": "stdout",
     "output_type": "stream",
     "text": [
      "Year: 2022, Length: 1819\n",
      "Year: 2021, Length: 2879\n",
      "Year: 2020, Length: 2061\n",
      "Year: 2019, Length: 2737\n",
      "Year: 2018, Length: 4114\n"
     ]
    }
   ],
   "source": [
    "lists = [list_2022,list_2021,list_2020,list_2019,list_2018]\n",
    "yr = 2022\n",
    "for l in lists:\n",
    "    \n",
    "    print(f'Year: {yr}, Length: {len(l)}')\n",
    "    yr -= 1"
   ]
  },
  {
   "cell_type": "markdown",
   "metadata": {},
   "source": [
    "## remove non speech word"
   ]
  },
  {
   "cell_type": "code",
   "execution_count": 15,
   "metadata": {},
   "outputs": [],
   "source": [
    "# remove non speech word such as [Music]\n",
    "non_speech = ['(Music playing)','[ Applause ]','[Music]','[song fades]','(Applause)','[ Music ]']\n",
    "\n",
    "for l in lists:\n",
    "    l[:] = (val for val in l if val not in non_speech)"
   ]
  },
  {
   "cell_type": "code",
   "execution_count": 16,
   "metadata": {},
   "outputs": [
    {
     "name": "stdout",
     "output_type": "stream",
     "text": [
      "Year: 2022, Length: 1819\n",
      "Year: 2021, Length: 2854\n",
      "Year: 2020, Length: 2060\n",
      "Year: 2019, Length: 2557\n",
      "Year: 2018, Length: 3999\n"
     ]
    }
   ],
   "source": [
    "# check length of each year event after removing \n",
    "yr = 2022\n",
    "for l in lists:\n",
    "    \n",
    "    print(f'Year: {yr}, Length: {len(l)}')\n",
    "    yr -= 1"
   ]
  },
  {
   "cell_type": "code",
   "execution_count": 18,
   "metadata": {},
   "outputs": [
    {
     "name": "stdout",
     "output_type": "stream",
     "text": [
      "[\"Now, while the service\\ndoesn't launch until fall,\", 'we thought it would be\\nreally fun this morning to', 'share with you a sneak\\npeek of just one of our', 'upcoming show from Ron\\nMoore, the executive', 'producer behind Battle\\nStar Galactica and Star Trek.', 'With his new series, Ron\\nwanted to take us on a', 'journey in which the\\nspace race was a little', 'different than you\\nmight remember it.', 'And it has never ended.', \"So, let's take a first\\nlook at For All Mankind.\", '>> MALE SPEAKER: I believe\\nthat this nation should', 'commit itself to landing\\na man on the moon and', 'returning him\\nsafely to the earth.', '>> MALE SPEAKER: After\\nthousands of years gazing', 'up in the heavens and\\ndreaming of this day, a', 'man is about to set\\nfoot on the moon.', '>> MALE SPEAKER: Across\\nthe world, people wait', 'with bated breath.', '>> MALE SPEAKER:\\nLadies and gentlemen,', 'this is a live signal.']\n"
     ]
    }
   ],
   "source": [
    "print(list_2019[50:70])"
   ]
  },
  {
   "cell_type": "markdown",
   "metadata": {},
   "source": [
    "now we need to replace '\\n' with ' '"
   ]
  },
  {
   "cell_type": "code",
   "execution_count": 19,
   "metadata": {},
   "outputs": [],
   "source": [
    "for l in lists:\n",
    "    for i in l:\n",
    "        # replace all '\\n' to ' '\n",
    "        i = i.replace('\\n', ' ')"
   ]
  },
  {
   "cell_type": "code",
   "execution_count": 20,
   "metadata": {},
   "outputs": [
    {
     "name": "stdout",
     "output_type": "stream",
     "text": [
      "89762\n",
      "94551\n",
      "99661\n",
      "102006\n",
      "106072\n"
     ]
    }
   ],
   "source": [
    "str_list  = []\n",
    "\n",
    "for i in range(5):\n",
    "    temp_str  = ' '.join(lists[i])\n",
    "    str_list.append(temp_str)\n",
    "    print(len(temp_str))"
   ]
  },
  {
   "cell_type": "markdown",
   "metadata": {},
   "source": [
    "## remove stopwords"
   ]
  },
  {
   "cell_type": "code",
   "execution_count": 27,
   "metadata": {},
   "outputs": [],
   "source": [
    "from wordcloud import WordCloud, STOPWORDS,ImageColorGenerator\n",
    "stopwords = set(STOPWORDS)"
   ]
  },
  {
   "cell_type": "code",
   "execution_count": 29,
   "metadata": {},
   "outputs": [
    {
     "name": "stdout",
     "output_type": "stream",
     "text": [
      "['♪', '♪', '♪', '♪', '♪', '♪', '♪', '♪', 'Tim', 'Cook:', 'Good', 'morning,', 'and', 'welcome', 'to', 'WWDC.', 'We', 'have', 'a', 'big', 'day', 'of', 'announcements', 'about', 'our', 'latest', 'technologies', 'and', 'platforms.', 'These', 'platforms,', 'and', 'the', 'products', 'they', 'drive,', 'deliver', 'amazing', 'experiences', 'for', 'our', 'users', 'and', 'provide', 'developers', 'with', 'incredible', 'opportunities', 'so', 'they']\n"
     ]
    }
   ],
   "source": [
    "one_word_list = []\n",
    "for s in str_list:\n",
    "    temp_word_list = s.split()\n",
    "    one_word_list.append(temp_word_list)\n",
    "\n",
    "print(one_word_list[0][:50])"
   ]
  },
  {
   "cell_type": "code",
   "execution_count": 30,
   "metadata": {},
   "outputs": [
    {
     "name": "stdout",
     "output_type": "stream",
     "text": [
      "9216\n",
      "8930\n",
      "10315\n",
      "10852\n",
      "11117\n"
     ]
    }
   ],
   "source": [
    "# apply stopwords \n",
    "\n",
    "stopwords.add('♪')\n",
    "for word in one_word_list:\n",
    "    word[:] = [i for i in word if i not in stopwords]\n",
    "    print(len(word))"
   ]
  },
  {
   "cell_type": "code",
   "execution_count": 31,
   "metadata": {},
   "outputs": [
    {
     "name": "stdout",
     "output_type": "stream",
     "text": [
      "['Tim', 'Cook:', 'Good', 'morning,', 'welcome', 'WWDC.', 'We', 'big', 'day', 'announcements', 'latest', 'technologies', 'platforms.', 'These', 'platforms,']\n"
     ]
    }
   ],
   "source": [
    "# take a look at filtered words\n",
    "print(one_word_list[0][:15])"
   ]
  },
  {
   "cell_type": "code",
   "execution_count": 38,
   "metadata": {},
   "outputs": [],
   "source": [
    "# replace punctuation mark with ' '\n",
    "import re\n",
    "for word in one_word_list:\n",
    "    word[:] = [re.sub(r'[^\\w\\s]', '', i) for i in word]"
   ]
  },
  {
   "cell_type": "code",
   "execution_count": 39,
   "metadata": {},
   "outputs": [
    {
     "name": "stdout",
     "output_type": "stream",
     "text": [
      "['Tim', 'Cook', 'Good', 'morning', 'welcome', 'WWDC', 'We', 'big', 'day', 'announcements', 'latest', 'technologies', 'platforms', 'These', 'platforms']\n"
     ]
    }
   ],
   "source": [
    "print(one_word_list[0][:15])"
   ]
  },
  {
   "cell_type": "code",
   "execution_count": null,
   "metadata": {},
   "outputs": [],
   "source": []
  },
  {
   "cell_type": "markdown",
   "metadata": {},
   "source": []
  }
 ],
 "metadata": {
  "kernelspec": {
   "display_name": "Python 3.8.8",
   "language": "python",
   "name": "python3"
  },
  "language_info": {
   "codemirror_mode": {
    "name": "ipython",
    "version": 3
   },
   "file_extension": ".py",
   "mimetype": "text/x-python",
   "name": "python",
   "nbconvert_exporter": "python",
   "pygments_lexer": "ipython3",
   "version": "3.8.8"
  },
  "orig_nbformat": 4,
  "vscode": {
   "interpreter": {
    "hash": "88d6025c71d5f2e9d90ffc8ea07446620f6c91ee299e6a754c637482b0272f01"
   }
  }
 },
 "nbformat": 4,
 "nbformat_minor": 2
}
