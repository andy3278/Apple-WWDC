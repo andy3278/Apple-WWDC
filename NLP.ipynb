{
 "cells": [
  {
   "cell_type": "code",
   "execution_count": 1,
   "metadata": {},
   "outputs": [
    {
     "name": "stdout",
     "output_type": "stream",
     "text": [
      "Setup Complete\n"
     ]
    }
   ],
   "source": [
    "# import libraries\n",
    "import pandas as pd\n",
    "import numpy as np\n",
    "pd.plotting.register_matplotlib_converters()\n",
    "import matplotlib.pyplot as plt\n",
    "%matplotlib inline\n",
    "print(\"Setup Complete\")"
   ]
  },
  {
   "cell_type": "markdown",
   "metadata": {},
   "source": [
    "# Last 5 years of Apple WWDC\n",
    "from 2022 to 2018"
   ]
  },
  {
   "cell_type": "code",
   "execution_count": 2,
   "metadata": {},
   "outputs": [],
   "source": [
    "from youtube_transcript_api import YouTubeTranscriptApi\n",
    "\n",
    "wwdc_2022 = 'q5D55G7Ejs8'\n",
    "wwdc_2021 = '0TD96VTf0Xs'\n",
    "wwdc_2020 = 'GEZhD3J89ZE'\n",
    "wwdc_2019 = 'psL_5RIBqnY'\n",
    "wwdc_2018 = 'UThGcWBIMpU'\n",
    "\n",
    "\n",
    "trans_2022 = YouTubeTranscriptApi.get_transcript(wwdc_2022, languages=['en'])\n",
    "trans_2021 = YouTubeTranscriptApi.get_transcript(wwdc_2021, languages=['en'])\n",
    "trans_2020 = YouTubeTranscriptApi.get_transcript(wwdc_2020, languages=['en'])\n",
    "trans_2019 = YouTubeTranscriptApi.get_transcript(wwdc_2019, languages=['en'])\n",
    "trans_2018 = YouTubeTranscriptApi.get_transcript(wwdc_2018, languages=['en'])\n"
   ]
  },
  {
   "cell_type": "code",
   "execution_count": 4,
   "metadata": {},
   "outputs": [
    {
     "name": "stdout",
     "output_type": "stream",
     "text": [
      "{'text': '.', 'start': 6519.62, 'duration': 8.008}\n",
      "{'text': 'you', 'start': 6408.56, 'duration': 2.079}\n",
      "{'text': '[song fades]', 'start': 6479.446, 'duration': 1.602}\n",
      "{'text': '(Music playing)', 'start': 8210.333, 'duration': 3.933}\n",
      "{'text': '[ Applause ]', 'start': 8127.485, 'duration': 4.071}\n"
     ]
    }
   ],
   "source": [
    "# take a look at each transcript\n",
    "print(trans_2022[-1])\n",
    "print(trans_2021[-1])\n",
    "print(trans_2020[-1])\n",
    "print(trans_2019[-1])\n",
    "print(trans_2018[-1])\n"
   ]
  },
  {
   "cell_type": "code",
   "execution_count": 6,
   "metadata": {},
   "outputs": [],
   "source": [
    "# write transcript into txt file\n",
    "files = ['wwdc_2022.txt','wwdc_2021.txt','wwdc_2020.txt','wwdc_2019.txt','wwdc_2018.txt']\n",
    "trans = [trans_2022, trans_2021,trans_2020,trans_2019,trans_2018]\n",
    "\n",
    "for n in range(5):\n",
    "    with open(f'{files[n]}', 'w') as file:\n",
    "        for i in trans[n]:\n",
    "            file.write(f'{i}\\n')"
   ]
  }
 ],
 "metadata": {
  "kernelspec": {
   "display_name": "Python 3.8.8",
   "language": "python",
   "name": "python3"
  },
  "language_info": {
   "codemirror_mode": {
    "name": "ipython",
    "version": 3
   },
   "file_extension": ".py",
   "mimetype": "text/x-python",
   "name": "python",
   "nbconvert_exporter": "python",
   "pygments_lexer": "ipython3",
   "version": "3.8.8"
  },
  "orig_nbformat": 4,
  "vscode": {
   "interpreter": {
    "hash": "88d6025c71d5f2e9d90ffc8ea07446620f6c91ee299e6a754c637482b0272f01"
   }
  }
 },
 "nbformat": 4,
 "nbformat_minor": 2
}
